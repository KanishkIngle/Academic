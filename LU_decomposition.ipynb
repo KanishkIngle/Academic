{
  "nbformat": 4,
  "nbformat_minor": 0,
  "metadata": {
    "colab": {
      "name": "LU decomposition.ipynb",
      "provenance": [],
      "authorship_tag": "ABX9TyOmUQ7If70oSXAMmOTr9JPa",
      "include_colab_link": true
    },
    "kernelspec": {
      "name": "python3",
      "display_name": "Python 3"
    },
    "language_info": {
      "name": "python"
    }
  },
  "cells": [
    {
      "cell_type": "markdown",
      "metadata": {
        "id": "view-in-github",
        "colab_type": "text"
      },
      "source": [
        "<a href=\"https://colab.research.google.com/github/KanishkIngle/Academic/blob/master/LU_decomposition.ipynb\" target=\"_parent\"><img src=\"https://colab.research.google.com/assets/colab-badge.svg\" alt=\"Open In Colab\"/></a>"
      ]
    },
    {
      "cell_type": "code",
      "metadata": {
        "id": "FtdZL1fFqj_a"
      },
      "source": [
        "import numpy as np\n",
        "from scipy.linalg import lu, lu_factor, lu_solve\n",
        "from time import time"
      ],
      "execution_count": 8,
      "outputs": []
    },
    {
      "cell_type": "code",
      "metadata": {
        "colab": {
          "base_uri": "https://localhost:8080/"
        },
        "id": "7feaQHS6q95u",
        "outputId": "edcabec6-5ddc-485d-8ac3-28dc215f8ac1"
      },
      "source": [
        "#  Define a system of linear equations. A  is the coefficient matrix and b is the vector of knowns\n",
        "#  We are using the same matrix as above\n",
        "A = np.random.randint(1,100,size=(5,5))\n",
        "b = np.random.randint(1,100,size=5); b.shape = (5, 1)\n",
        "\n",
        "#  Do the matrix factorization.  In our case, the permutation matrix P is the identity\n",
        "P, L, U = lu(A)\n",
        "\n",
        "print('The L matrix is:')\n",
        "print(L)\n",
        "print()\n",
        "print('The U matrix is:')\n",
        "print(U)\n",
        "\n",
        "#  Show the A = PLA\n",
        "np.allclose(L @ U, A)\n"
      ],
      "execution_count": 12,
      "outputs": [
        {
          "output_type": "stream",
          "text": [
            "The L matrix is:\n",
            "[[ 1.          0.          0.          0.          0.        ]\n",
            " [ 0.7032967   1.          0.          0.          0.        ]\n",
            " [ 0.24175824 -0.59474805  1.          0.          0.        ]\n",
            " [ 0.96703297 -0.44144784 -0.24257812  1.          0.        ]\n",
            " [ 0.46153846 -0.47196593 -0.44569094  0.65652118  1.        ]]\n",
            "\n",
            "The U matrix is:\n",
            "[[ 91.          86.          75.           9.          43.        ]\n",
            " [  0.         -15.48351648  32.25274725   3.67032967  61.75824176]\n",
            " [  0.           0.          30.05039035  17.00709723  88.33498935]\n",
            " [  0.           0.           0.          20.04251199  92.10875983]\n",
            " [  0.           0.           0.           0.          60.20038533]]\n"
          ],
          "name": "stdout"
        },
        {
          "output_type": "execute_result",
          "data": {
            "text/plain": [
              "False"
            ]
          },
          "metadata": {
            "tags": []
          },
          "execution_count": 12
        }
      ]
    },
    {
      "cell_type": "code",
      "metadata": {
        "colab": {
          "base_uri": "https://localhost:8080/"
        },
        "id": "linT7Jn4sSIt",
        "outputId": "ade4a3e2-f268-4031-c75a-5785d4cfdd35"
      },
      "source": [
        "#  Do the factorization\n",
        "LU, p = lu_factor(A)\n",
        "\n",
        "#  Solve the system\n",
        "x1 = lu_solve((LU, p), b)\n",
        "print(x1)\n",
        "\n",
        "#  Does this give the same results as linalg.solve?\n",
        "np.allclose(x1, np.linalg.solve(A, b))\n"
      ],
      "execution_count": 13,
      "outputs": [
        {
          "output_type": "stream",
          "text": [
            "[[ 4.1692405 ]\n",
            " [-3.4769653 ]\n",
            " [-1.39700862]\n",
            " [ 3.52508278]\n",
            " [ 0.13181469]]\n"
          ],
          "name": "stdout"
        },
        {
          "output_type": "execute_result",
          "data": {
            "text/plain": [
              "True"
            ]
          },
          "metadata": {
            "tags": []
          },
          "execution_count": 13
        }
      ]
    },
    {
      "cell_type": "code",
      "metadata": {
        "colab": {
          "base_uri": "https://localhost:8080/"
        },
        "id": "kvK3BL22tgi6",
        "outputId": "1b612047-35a7-4bc4-c6f3-fe38874278df"
      },
      "source": [
        "start = time()\n",
        "for i in range(10000):\n",
        "    x1 = np.linalg.inv(LU)\n",
        "print('Time = ', time() - start)\n"
      ],
      "execution_count": 27,
      "outputs": [
        {
          "output_type": "stream",
          "text": [
            "Time =  0.16279292106628418\n"
          ],
          "name": "stdout"
        }
      ]
    },
    {
      "cell_type": "code",
      "metadata": {
        "id": "h5XhMT1a1M_N"
      },
      "source": [
        "\n"
      ],
      "execution_count": 26,
      "outputs": []
    },
    {
      "cell_type": "code",
      "metadata": {
        "id": "FpT9-iwF2Vho"
      },
      "source": [
        ""
      ],
      "execution_count": null,
      "outputs": []
    },
    {
      "cell_type": "code",
      "metadata": {
        "id": "HJ5XNQnQ2QpP"
      },
      "source": [
        ""
      ],
      "execution_count": null,
      "outputs": []
    },
    {
      "cell_type": "code",
      "metadata": {
        "id": "MKGXC7YP0_x3"
      },
      "source": [
        ""
      ],
      "execution_count": null,
      "outputs": []
    },
    {
      "cell_type": "code",
      "metadata": {
        "id": "jgyVp530sIIE"
      },
      "source": [
        ""
      ],
      "execution_count": null,
      "outputs": []
    },
    {
      "cell_type": "code",
      "metadata": {
        "id": "RF2n4D2xqfn9"
      },
      "source": [
        ""
      ],
      "execution_count": null,
      "outputs": []
    },
    {
      "cell_type": "code",
      "metadata": {
        "id": "yTv9NShbqZi0"
      },
      "source": [
        ""
      ],
      "execution_count": null,
      "outputs": []
    },
    {
      "cell_type": "code",
      "metadata": {
        "id": "MUZnFHanqI5r"
      },
      "source": [
        ""
      ],
      "execution_count": null,
      "outputs": []
    },
    {
      "cell_type": "code",
      "metadata": {
        "id": "1IYAm71xpTS0"
      },
      "source": [
        ""
      ],
      "execution_count": null,
      "outputs": []
    },
    {
      "cell_type": "code",
      "metadata": {
        "id": "w81VPZiPpMA5"
      },
      "source": [
        ""
      ],
      "execution_count": null,
      "outputs": []
    }
  ]
}